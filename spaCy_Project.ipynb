{
  "nbformat": 4,
  "nbformat_minor": 0,
  "metadata": {
    "colab": {
      "provenance": [],
      "toc_visible": true,
      "mount_file_id": "1GoVMqd2-Uf8SjS2X1fqa20WvvGf79tNo",
      "authorship_tag": "ABX9TyOYpstYwUywOcC7v+R3ewDr",
      "include_colab_link": true
    },
    "kernelspec": {
      "name": "python3",
      "display_name": "Python 3"
    },
    "language_info": {
      "name": "python"
    }
  },
  "cells": [
    {
      "cell_type": "markdown",
      "metadata": {
        "id": "view-in-github",
        "colab_type": "text"
      },
      "source": [
        "<a href=\"https://colab.research.google.com/github/ehorvath24/CAP6776-Information-Retrieval/blob/main/spaCy_Project.ipynb\" target=\"_parent\"><img src=\"https://colab.research.google.com/assets/colab-badge.svg\" alt=\"Open In Colab\"/></a>"
      ]
    },
    {
      "cell_type": "markdown",
      "source": [
        "# **CAP6776 spaCy Project**\n"
      ],
      "metadata": {
        "id": "ZqklyrO6-T37"
      }
    },
    {
      "cell_type": "markdown",
      "source": [
        "Import all libraries needed \n"
      ],
      "metadata": {
        "id": "sRyvuEUUJUUJ"
      }
    },
    {
      "cell_type": "code",
      "execution_count": null,
      "metadata": {
        "id": "Kk6PWDlo-DPG"
      },
      "outputs": [],
      "source": [
        "import spacy"
      ]
    },
    {
      "cell_type": "markdown",
      "source": [
        "Check to ensure correct package has been installed"
      ],
      "metadata": {
        "id": "RTYlHKA4kjFg"
      }
    },
    {
      "cell_type": "code",
      "source": [
        "nlp = spacy.load(\"en_core_web_sm\")"
      ],
      "metadata": {
        "id": "cEup8UhdkcLl"
      },
      "execution_count": null,
      "outputs": []
    },
    {
      "cell_type": "markdown",
      "source": [
        "Importing dataset that contains the  opening description from the Wikipedia article on the United States."
      ],
      "metadata": {
        "id": "XMKcOP9aI3qg"
      }
    },
    {
      "cell_type": "code",
      "source": [
        "with open (\"/content/drive/MyDrive/CAP6776/datasets/wiki_us.txt\", \"r\") as f:\n",
        "  text = f.read()"
      ],
      "metadata": {
        "id": "ua78Lo4c_uLA"
      },
      "execution_count": null,
      "outputs": []
    },
    {
      "cell_type": "markdown",
      "source": [
        "Printing the text to view dataset"
      ],
      "metadata": {
        "id": "tM1j4vtxI0R2"
      }
    },
    {
      "cell_type": "code",
      "source": [
        "print (text)"
      ],
      "metadata": {
        "colab": {
          "base_uri": "https://localhost:8080/"
        },
        "id": "7NvZz_Jy9QR2",
        "outputId": "41b30080-47b2-48ad-9ac7-a735baf30b71"
      },
      "execution_count": null,
      "outputs": [
        {
          "output_type": "stream",
          "name": "stdout",
          "text": [
            "The United States of America (U.S.A. or USA), commonly known as the United States (U.S. or US) or America, is a country primarily located in North America. It consists of 50 states, a federal district, five major unincorporated territories, 326 Indian reservations, and some minor possessions.[j] At 3.8 million square miles (9.8 million square kilometers), it is the world's third- or fourth-largest country by total area.[d] The United States shares significant land borders with Canada to the north and Mexico to the south, as well as limited maritime borders with the Bahamas, Cuba, and Russia.[22] With a population of more than 331 million people, it is the third most populous country in the world. The national capital is Washington, D.C., and the most populous city is New York.\n",
            "\n",
            "Paleo-Indians migrated from Siberia to the North American mainland at least 12,000 years ago, and European colonization began in the 16th century. The United States emerged from the thirteen British colonies established along the East Coast. Disputes over taxation and political representation with Great Britain led to the American Revolutionary War (1775–1783), which established independence. In the late 18th century, the U.S. began expanding across North America, gradually obtaining new territories, sometimes through war, frequently displacing Native Americans, and admitting new states; by 1848, the United States spanned the continent. Slavery was legal in the southern United States until the second half of the 19th century when the American Civil War led to its abolition. The Spanish–American War and World War I established the U.S. as a world power, a status confirmed by the outcome of World War II.\n",
            "\n",
            "During the Cold War, the United States fought the Korean War and the Vietnam War but avoided direct military conflict with the Soviet Union. The two superpowers competed in the Space Race, culminating in the 1969 spaceflight that first landed humans on the Moon. The Soviet Union's dissolution in 1991 ended the Cold War, leaving the United States as the world's sole superpower.\n",
            "\n",
            "The United States is a federal republic and a representative democracy with three separate branches of government, including a bicameral legislature. It is a founding member of the United Nations, World Bank, International Monetary Fund, Organization of American States, NATO, and other international organizations. It is a permanent member of the United Nations Security Council. Considered a melting pot of cultures and ethnicities, its population has been profoundly shaped by centuries of immigration. The country ranks high in international measures of economic freedom, quality of life, education, and human rights, and has low levels of perceived corruption. However, the country has received criticism concerning inequality related to race, wealth and income, the use of capital punishment, high incarceration rates, and lack of universal health care.\n",
            "\n",
            "The United States is a highly developed country, accounts for approximately a quarter of global GDP, and is the world's largest economy. By value, the United States is the world's largest importer and the second-largest exporter of goods. Although its population is only 4.2% of the world's total, it holds 29.4% of the total wealth in the world, the largest share held by any country. Making up more than a third of global military spending, it is the foremost military power in the world; and it is a leading political, cultural, and scientific force internationally.[23]\n"
          ]
        }
      ]
    },
    {
      "cell_type": "markdown",
      "source": [
        "Creating a doc container"
      ],
      "metadata": {
        "id": "eJiiZ3sj9TBI"
      }
    },
    {
      "cell_type": "code",
      "source": [
        "doc = nlp(text)"
      ],
      "metadata": {
        "id": "ni-prMwY9Y34"
      },
      "execution_count": null,
      "outputs": []
    },
    {
      "cell_type": "markdown",
      "source": [
        "Check document"
      ],
      "metadata": {
        "id": "nBOVCdnZ9eEJ"
      }
    },
    {
      "cell_type": "code",
      "source": [
        "print (doc)"
      ],
      "metadata": {
        "colab": {
          "base_uri": "https://localhost:8080/"
        },
        "id": "73lmHMOt9f3g",
        "outputId": "5ac3289e-0753-408e-ee09-1341305ee656"
      },
      "execution_count": null,
      "outputs": [
        {
          "output_type": "stream",
          "name": "stdout",
          "text": [
            "The United States of America (U.S.A. or USA), commonly known as the United States (U.S. or US) or America, is a country primarily located in North America. It consists of 50 states, a federal district, five major unincorporated territories, 326 Indian reservations, and some minor possessions.[j] At 3.8 million square miles (9.8 million square kilometers), it is the world's third- or fourth-largest country by total area.[d] The United States shares significant land borders with Canada to the north and Mexico to the south, as well as limited maritime borders with the Bahamas, Cuba, and Russia.[22] With a population of more than 331 million people, it is the third most populous country in the world. The national capital is Washington, D.C., and the most populous city is New York.\n",
            "\n",
            "Paleo-Indians migrated from Siberia to the North American mainland at least 12,000 years ago, and European colonization began in the 16th century. The United States emerged from the thirteen British colonies established along the East Coast. Disputes over taxation and political representation with Great Britain led to the American Revolutionary War (1775–1783), which established independence. In the late 18th century, the U.S. began expanding across North America, gradually obtaining new territories, sometimes through war, frequently displacing Native Americans, and admitting new states; by 1848, the United States spanned the continent. Slavery was legal in the southern United States until the second half of the 19th century when the American Civil War led to its abolition. The Spanish–American War and World War I established the U.S. as a world power, a status confirmed by the outcome of World War II.\n",
            "\n",
            "During the Cold War, the United States fought the Korean War and the Vietnam War but avoided direct military conflict with the Soviet Union. The two superpowers competed in the Space Race, culminating in the 1969 spaceflight that first landed humans on the Moon. The Soviet Union's dissolution in 1991 ended the Cold War, leaving the United States as the world's sole superpower.\n",
            "\n",
            "The United States is a federal republic and a representative democracy with three separate branches of government, including a bicameral legislature. It is a founding member of the United Nations, World Bank, International Monetary Fund, Organization of American States, NATO, and other international organizations. It is a permanent member of the United Nations Security Council. Considered a melting pot of cultures and ethnicities, its population has been profoundly shaped by centuries of immigration. The country ranks high in international measures of economic freedom, quality of life, education, and human rights, and has low levels of perceived corruption. However, the country has received criticism concerning inequality related to race, wealth and income, the use of capital punishment, high incarceration rates, and lack of universal health care.\n",
            "\n",
            "The United States is a highly developed country, accounts for approximately a quarter of global GDP, and is the world's largest economy. By value, the United States is the world's largest importer and the second-largest exporter of goods. Although its population is only 4.2% of the world's total, it holds 29.4% of the total wealth in the world, the largest share held by any country. Making up more than a third of global military spending, it is the foremost military power in the world; and it is a leading political, cultural, and scientific force internationally.[23]\n"
          ]
        }
      ]
    },
    {
      "cell_type": "markdown",
      "source": [
        "Examining the length of document"
      ],
      "metadata": {
        "id": "vDDbtmT59kx0"
      }
    },
    {
      "cell_type": "code",
      "source": [
        "print (len(doc))\n",
        "print (len(text))"
      ],
      "metadata": {
        "colab": {
          "base_uri": "https://localhost:8080/"
        },
        "id": "vYOjyyoJ9rGh",
        "outputId": "8a9f7aa8-e115-4e1b-8eec-b7ba026fccfe"
      },
      "execution_count": null,
      "outputs": [
        {
          "output_type": "stream",
          "name": "stdout",
          "text": [
            "654\n",
            "3521\n"
          ]
        }
      ]
    },
    {
      "cell_type": "markdown",
      "source": [
        "Sentence Boundary Detection (SBD)"
      ],
      "metadata": {
        "id": "3RkyBS1h9_1F"
      }
    },
    {
      "cell_type": "code",
      "source": [
        "for sent in doc.sents:\n",
        "  print (sent)"
      ],
      "metadata": {
        "colab": {
          "base_uri": "https://localhost:8080/"
        },
        "id": "DddBkGw--C4q",
        "outputId": "cb7de114-5193-4959-df97-5a48ac8871d9"
      },
      "execution_count": null,
      "outputs": [
        {
          "output_type": "stream",
          "name": "stdout",
          "text": [
            "The United States of America (U.S.A. or USA), commonly known as the United States (U.S. or US) or America, is a country primarily located in North America.\n",
            "It consists of 50 states, a federal district, five major unincorporated territories, 326 Indian reservations, and some minor possessions.[j]\n",
            "At 3.8 million square miles (9.8 million square kilometers), it is the world's third- or fourth-largest country by total area.[d]\n",
            "The United States shares significant land borders with Canada to the north and Mexico to the south, as well as limited maritime borders with the Bahamas, Cuba, and Russia.[22] With a population of more than 331 million people, it is the third most populous country in the world.\n",
            "The national capital is Washington, D.C., and the most populous city is New York.\n",
            "\n",
            "\n",
            "Paleo-Indians migrated from Siberia to the North American mainland at least 12,000 years ago, and European colonization began in the 16th century.\n",
            "The United States emerged from the thirteen British colonies established along the East Coast.\n",
            "Disputes over taxation and political representation with Great Britain led to the American Revolutionary War (1775–1783), which established independence.\n",
            "In the late 18th century, the U.S. began expanding across North America, gradually obtaining new territories, sometimes through war, frequently displacing Native Americans, and admitting new states; by 1848, the United States spanned the continent.\n",
            "Slavery was legal in the southern United States until the second half of the 19th century when the American Civil War led to its abolition.\n",
            "The Spanish–American War and World War\n",
            "I established the U.S. as a world power, a status confirmed by the outcome of World War II.\n",
            "\n",
            "\n",
            "During the Cold War, the United States fought the Korean War and the Vietnam War but avoided direct military conflict with the Soviet Union.\n",
            "The two superpowers competed in the Space Race, culminating in the 1969 spaceflight that first landed humans on the Moon.\n",
            "The Soviet Union's dissolution in 1991 ended the Cold War, leaving the United States as the world's sole superpower.\n",
            "\n",
            "\n",
            "The United States is a federal republic and a representative democracy with three separate branches of government, including a bicameral legislature.\n",
            "It is a founding member of the United Nations, World Bank, International Monetary Fund, Organization of American States, NATO, and other international organizations.\n",
            "It is a permanent member of the United Nations Security Council.\n",
            "Considered a melting pot of cultures and ethnicities, its population has been profoundly shaped by centuries of immigration.\n",
            "The country ranks high in international measures of economic freedom, quality of life, education, and human rights, and has low levels of perceived corruption.\n",
            "However, the country has received criticism concerning inequality related to race, wealth and income, the use of capital punishment, high incarceration rates, and lack of universal health care.\n",
            "\n",
            "\n",
            "The United States is a highly developed country, accounts for approximately a quarter of global GDP, and is the world's largest economy.\n",
            "By value, the United States is the world's largest importer and the second-largest exporter of goods.\n",
            "Although its population is only 4.2% of the world's total, it holds 29.4% of the total wealth in the world, the largest share held by any country.\n",
            "Making up more than a third of global military spending, it is the foremost military power in the world; and it is a leading political, cultural, and scientific force internationally.[23]\n"
          ]
        }
      ]
    },
    {
      "cell_type": "markdown",
      "source": [
        "Obtaining the first sentence"
      ],
      "metadata": {
        "id": "eP0wGx9V-RLw"
      }
    },
    {
      "cell_type": "code",
      "source": [
        "sentence1 = list(doc.sents)[0]\n",
        "print (sentence1)"
      ],
      "metadata": {
        "colab": {
          "base_uri": "https://localhost:8080/"
        },
        "id": "vo1oCvZR-Uk9",
        "outputId": "03a71ae1-29f6-48d3-eb9b-2c12844c8b48"
      },
      "execution_count": null,
      "outputs": [
        {
          "output_type": "stream",
          "name": "stdout",
          "text": [
            "The United States of America (U.S.A. or USA), commonly known as the United States (U.S. or US) or America, is a country primarily located in North America.\n"
          ]
        }
      ]
    },
    {
      "cell_type": "markdown",
      "source": [
        "Token Attributes - to demonstrate, we will use \"States\" as one token which is part of a sequence of tokens that make up \"The United States of America.\""
      ],
      "metadata": {
        "id": "T7gvMWUj-c1D"
      }
    },
    {
      "cell_type": "code",
      "source": [
        "token2 = sentence1[2]\n",
        "print (token2)"
      ],
      "metadata": {
        "colab": {
          "base_uri": "https://localhost:8080/"
        },
        "id": "LY2UwbPr-hL-",
        "outputId": "6e65fcc2-6f32-4424-afe7-03e28e78bd04"
      },
      "execution_count": null,
      "outputs": [
        {
          "output_type": "stream",
          "name": "stdout",
          "text": [
            "States\n"
          ]
        }
      ]
    },
    {
      "cell_type": "markdown",
      "source": [
        "Text - Verbatim text content"
      ],
      "metadata": {
        "id": "EX6A24WM-7f1"
      }
    },
    {
      "cell_type": "code",
      "source": [
        "token2.text"
      ],
      "metadata": {
        "colab": {
          "base_uri": "https://localhost:8080/",
          "height": 37
        },
        "id": "8R-Had0G-_Dc",
        "outputId": "c8f524c2-06e3-4fcf-cdb4-a5120d522db9"
      },
      "execution_count": null,
      "outputs": [
        {
          "output_type": "execute_result",
          "data": {
            "text/plain": [
              "'States'"
            ],
            "application/vnd.google.colaboratory.intrinsic+json": {
              "type": "string"
            }
          },
          "metadata": {},
          "execution_count": 42
        }
      ]
    },
    {
      "cell_type": "markdown",
      "source": [
        "Head - the syntactic parent of this token"
      ],
      "metadata": {
        "id": "1kuUldmu_C27"
      }
    },
    {
      "cell_type": "code",
      "source": [
        "token2.head"
      ],
      "metadata": {
        "colab": {
          "base_uri": "https://localhost:8080/"
        },
        "id": "5fvuVkxp_Hqf",
        "outputId": "d71a5e4e-da9d-4f1d-d2fa-6dcc8e05e53c"
      },
      "execution_count": null,
      "outputs": [
        {
          "output_type": "execute_result",
          "data": {
            "text/plain": [
              "is"
            ]
          },
          "metadata": {},
          "execution_count": 43
        }
      ]
    },
    {
      "cell_type": "markdown",
      "source": [
        "Left Edge - leftmost token of this token's syntactic descendants."
      ],
      "metadata": {
        "id": "nv6iVyOP_Jlq"
      }
    },
    {
      "cell_type": "code",
      "source": [
        "token2.left_edge"
      ],
      "metadata": {
        "colab": {
          "base_uri": "https://localhost:8080/"
        },
        "id": "9GwEuToU_SMd",
        "outputId": "18de4702-860f-4070-e971-f21ded56bb07"
      },
      "execution_count": null,
      "outputs": [
        {
          "output_type": "execute_result",
          "data": {
            "text/plain": [
              "The"
            ]
          },
          "metadata": {},
          "execution_count": 44
        }
      ]
    },
    {
      "cell_type": "markdown",
      "source": [
        "Right Edge - rightmost token. "
      ],
      "metadata": {
        "id": "4qxFpPhk_VjB"
      }
    },
    {
      "cell_type": "code",
      "source": [
        "token2.right_edge"
      ],
      "metadata": {
        "colab": {
          "base_uri": "https://localhost:8080/"
        },
        "id": "1BuhjSFE_Zyq",
        "outputId": "61a0931b-6765-4ccf-af41-0a28e86c1615"
      },
      "execution_count": null,
      "outputs": [
        {
          "output_type": "execute_result",
          "data": {
            "text/plain": [
              ","
            ]
          },
          "metadata": {},
          "execution_count": 45
        }
      ]
    },
    {
      "cell_type": "markdown",
      "source": [
        "Entity Type"
      ],
      "metadata": {
        "id": "ynie2Jdk_ntR"
      }
    },
    {
      "cell_type": "code",
      "source": [
        "token2.ent_type"
      ],
      "metadata": {
        "colab": {
          "base_uri": "https://localhost:8080/"
        },
        "id": "4p3ihnSR_pkR",
        "outputId": "8380a145-5393-45e9-ff90-92d51713d456"
      },
      "execution_count": null,
      "outputs": [
        {
          "output_type": "execute_result",
          "data": {
            "text/plain": [
              "384"
            ]
          },
          "metadata": {},
          "execution_count": 46
        }
      ]
    },
    {
      "cell_type": "markdown",
      "source": [
        "Part of Speech Tagging (POS) - parse the text and identify parts of speech."
      ],
      "metadata": {
        "id": "lTOMTKqT_-Kt"
      }
    },
    {
      "cell_type": "code",
      "source": [
        "for token in sentence1:\n",
        "  print (token.text, token.pos_, token.dep_)"
      ],
      "metadata": {
        "colab": {
          "base_uri": "https://localhost:8080/"
        },
        "id": "V2_H5R-mAArY",
        "outputId": "cb415a07-c414-42dd-bdf6-3c0d93d29ee9"
      },
      "execution_count": null,
      "outputs": [
        {
          "output_type": "stream",
          "name": "stdout",
          "text": [
            "The DET det\n",
            "United PROPN compound\n",
            "States PROPN nsubj\n",
            "of ADP prep\n",
            "America PROPN pobj\n",
            "( PUNCT punct\n",
            "U.S.A. PROPN appos\n",
            "or CCONJ cc\n",
            "USA PROPN conj\n",
            ") PUNCT punct\n",
            ", PUNCT punct\n",
            "commonly ADV advmod\n",
            "known VERB acl\n",
            "as ADP prep\n",
            "the DET det\n",
            "United PROPN compound\n",
            "States PROPN pobj\n",
            "( PUNCT punct\n",
            "U.S. PROPN appos\n",
            "or CCONJ cc\n",
            "US PROPN conj\n",
            ") PUNCT punct\n",
            "or CCONJ cc\n",
            "America PROPN conj\n",
            ", PUNCT punct\n",
            "is AUX ROOT\n",
            "a DET det\n",
            "country NOUN attr\n",
            "primarily ADV advmod\n",
            "located VERB acl\n",
            "in ADP prep\n",
            "North PROPN compound\n",
            "America PROPN pobj\n",
            ". PUNCT punct\n"
          ]
        }
      ]
    },
    {
      "cell_type": "markdown",
      "source": [
        "Named Entity Recognition - classification of text based on location, events, cardinal directions, dates etc. "
      ],
      "metadata": {
        "id": "ypz5WcR0Aa22"
      }
    },
    {
      "cell_type": "code",
      "source": [
        "for ent in doc.ents:\n",
        "    print (ent.text, ent.label_)"
      ],
      "metadata": {
        "colab": {
          "base_uri": "https://localhost:8080/"
        },
        "id": "1j8h-5uzApcL",
        "outputId": "b3d4ca22-36ca-4251-a2d5-f7f00e2984c1"
      },
      "execution_count": null,
      "outputs": [
        {
          "output_type": "stream",
          "name": "stdout",
          "text": [
            "The United States of America GPE\n",
            "U.S.A. GPE\n",
            "USA GPE\n",
            "the United States GPE\n",
            "U.S. GPE\n",
            "US GPE\n",
            "America GPE\n",
            "North America LOC\n",
            "50 CARDINAL\n",
            "five CARDINAL\n",
            "326 CARDINAL\n",
            "Indian NORP\n",
            "3.8 million square miles QUANTITY\n",
            "9.8 million square kilometers QUANTITY\n",
            "third- or fourth DATE\n",
            "The United States GPE\n",
            "Canada GPE\n",
            "Mexico GPE\n",
            "Bahamas GPE\n",
            "Cuba GPE\n",
            "more than 331 million CARDINAL\n",
            "third ORDINAL\n",
            "Washington GPE\n",
            "D.C. GPE\n",
            "New York GPE\n",
            "Paleo-Indians NORP\n",
            "Siberia LOC\n",
            "North American NORP\n",
            "at least 12,000 years ago DATE\n",
            "European NORP\n",
            "the 16th century DATE\n",
            "The United States GPE\n",
            "thirteen CARDINAL\n",
            "British NORP\n",
            "the East Coast LOC\n",
            "Great Britain GPE\n",
            "the American Revolutionary War ORG\n",
            "1775–1783 CARDINAL\n",
            "the late 18th century DATE\n",
            "U.S. GPE\n",
            "North America LOC\n",
            "Native Americans NORP\n",
            "1848 DATE\n",
            "the United States GPE\n",
            "United States GPE\n",
            "the second half of the 19th century DATE\n",
            "the American Civil War ORG\n",
            "Spanish NORP\n",
            "World War EVENT\n",
            "U.S. GPE\n",
            "World War II EVENT\n",
            "the Cold War EVENT\n",
            "the United States GPE\n",
            "the Korean War EVENT\n",
            "the Vietnam War EVENT\n",
            "the Soviet Union GPE\n",
            "two CARDINAL\n",
            "the Space Race FAC\n",
            "1969 DATE\n",
            "first ORDINAL\n",
            "Moon PERSON\n",
            "The Soviet Union's GPE\n",
            "1991 DATE\n",
            "the Cold War EVENT\n",
            "the United States GPE\n",
            "The United States GPE\n",
            "three CARDINAL\n",
            "the United Nations ORG\n",
            "World Bank ORG\n",
            "International Monetary Fund ORG\n",
            "Organization of American States ORG\n",
            "NATO ORG\n",
            "the United Nations Security Council ORG\n",
            "centuries DATE\n",
            "The United States GPE\n",
            "approximately a quarter DATE\n",
            "the United States GPE\n",
            "second ORDINAL\n",
            "only 4.2% PERCENT\n",
            "29.4% PERCENT\n",
            "more than a third CARDINAL\n"
          ]
        }
      ]
    },
    {
      "cell_type": "markdown",
      "source": [
        "Word Vector - looking at our first sentence as a vector."
      ],
      "metadata": {
        "id": "N-Zw2TyKA3NK"
      }
    },
    {
      "cell_type": "code",
      "source": [
        "sentence1[0].vector"
      ],
      "metadata": {
        "colab": {
          "base_uri": "https://localhost:8080/"
        },
        "id": "WcG3pyTwA72B",
        "outputId": "021bd962-9aa4-48be-8038-4a2fe0578d4e"
      },
      "execution_count": null,
      "outputs": [
        {
          "output_type": "execute_result",
          "data": {
            "text/plain": [
              "array([-4.7417200e-01, -1.2433462e+00, -8.2698148e-01,  5.3927720e-01,\n",
              "        9.6928179e-01, -1.3288355e+00,  3.0219442e-01,  1.0057645e+00,\n",
              "       -7.2275352e-01, -5.1134229e-01, -4.3427971e-01,  8.1987798e-01,\n",
              "       -9.4222212e-01, -7.7374589e-01, -4.1495377e-01,  1.6128494e+00,\n",
              "        1.0609400e+00, -1.4666582e+00,  1.0022085e+00, -8.1486034e-01,\n",
              "       -7.1720350e-01,  2.4605039e-01,  1.2093690e-01, -2.0314008e-03,\n",
              "        9.1325051e-01, -9.6433634e-01,  4.8440114e-01, -8.3424127e-01,\n",
              "       -1.5584692e-01,  2.3160322e+00, -3.6400259e-01, -2.0954484e-01,\n",
              "       -4.1756719e-01,  2.2354692e-01,  2.2343782e-01,  1.7631938e+00,\n",
              "       -7.2438824e-01, -2.4595353e-01,  7.5045794e-02, -5.2581865e-01,\n",
              "       -8.0298615e-01,  2.1506944e+00, -7.3358738e-01, -3.7619129e-01,\n",
              "        4.0049073e-01, -1.8522176e+00,  5.2772933e-01,  1.9132568e+00,\n",
              "        1.0864010e+00, -1.6947465e+00, -1.1881059e+00, -4.3570077e-01,\n",
              "       -6.2800616e-02, -9.2769194e-01,  5.3763616e-01,  2.8661880e+00,\n",
              "       -2.5762659e-01, -1.5181913e+00,  1.5654750e+00,  9.5774096e-01,\n",
              "       -5.2371591e-01, -9.3961090e-01,  1.2031605e+00,  5.4486141e-02,\n",
              "        9.4703019e-01, -1.7103493e+00,  1.4978826e-02,  9.4486439e-01,\n",
              "       -1.3593305e+00, -8.6653697e-01, -5.0754070e-02, -8.6832577e-01,\n",
              "        9.8561779e-02,  1.9464555e+00,  1.1405998e+00, -3.2175690e-02,\n",
              "        1.5566837e+00, -4.9204838e-01, -1.1019514e+00, -2.2429745e-01,\n",
              "       -1.7359061e+00, -4.3558186e-01,  1.6593173e-01,  1.2276646e+00,\n",
              "        3.4548801e-01, -5.9329510e-01,  1.2113901e+00,  2.5238454e-02,\n",
              "        1.2101024e+00, -1.8276545e-01, -9.9163103e-01,  3.4432769e-01,\n",
              "       -2.7223253e-01, -1.6121615e+00, -4.8616111e-01, -2.3109789e-01],\n",
              "      dtype=float32)"
            ]
          },
          "metadata": {},
          "execution_count": 49
        }
      ]
    },
    {
      "cell_type": "markdown",
      "source": [
        "Doc Similarity - example of doc similarity between two simple sentences. "
      ],
      "metadata": {
        "id": "Dyy2WhERBIBb"
      }
    },
    {
      "cell_type": "code",
      "source": [
        "doc1 = nlp(\"The United States contains 50 states.\")\n",
        "doc2 = nlp(\"Florida is the Sunshine State.\")\n",
        "\n",
        "# Similarity of two documents\n",
        "print(doc1, \"<->\", doc2, doc1.similarity(doc2))"
      ],
      "metadata": {
        "colab": {
          "base_uri": "https://localhost:8080/"
        },
        "id": "UH-T61n1BNMK",
        "outputId": "d90b5a1a-cae1-49e9-a75a-b8a2f326f2f7"
      },
      "execution_count": null,
      "outputs": [
        {
          "output_type": "stream",
          "name": "stdout",
          "text": [
            "The United States contains 50 states. <-> Florida is the Sunshine State. 0.6465657449435697\n"
          ]
        },
        {
          "output_type": "stream",
          "name": "stderr",
          "text": [
            "/usr/local/lib/python3.7/dist-packages/ipykernel_launcher.py:5: UserWarning: [W007] The model you're using has no word vectors loaded, so the result of the Doc.similarity method will be based on the tagger, parser and NER, which may not give useful similarity judgements. This may happen if you're using one of the small models, e.g. `en_core_web_sm`, which don't ship with word vectors and only use context-sensitive tensors. You can always add your own word vectors, or use one of the larger models instead if available.\n",
            "  \"\"\"\n"
          ]
        }
      ]
    },
    {
      "cell_type": "markdown",
      "source": [
        "Word Similarity - example of word similarity between two given words"
      ],
      "metadata": {
        "id": "raZQcqwqCJ3Z"
      }
    },
    {
      "cell_type": "code",
      "source": [
        "# Similarity of tokens and spans\n",
        "United_States = doc1[2:4]\n",
        "Florida = doc1[5]\n",
        "print(United_States, \"<->\", Florida, United_States.similarity(Florida))"
      ],
      "metadata": {
        "colab": {
          "base_uri": "https://localhost:8080/"
        },
        "id": "EOQx2sVTCRya",
        "outputId": "a0f5ce22-996d-4164-ac1c-725c630ff834"
      },
      "execution_count": null,
      "outputs": [
        {
          "output_type": "stream",
          "name": "stdout",
          "text": [
            "States contains <-> states 0.4298691749572754\n"
          ]
        },
        {
          "output_type": "stream",
          "name": "stderr",
          "text": [
            "/usr/local/lib/python3.7/dist-packages/ipykernel_launcher.py:4: UserWarning: [W007] The model you're using has no word vectors loaded, so the result of the Span.similarity method will be based on the tagger, parser and NER, which may not give useful similarity judgements. This may happen if you're using one of the small models, e.g. `en_core_web_sm`, which don't ship with word vectors and only use context-sensitive tensors. You can always add your own word vectors, or use one of the larger models instead if available.\n",
            "  after removing the cwd from sys.path.\n"
          ]
        }
      ]
    }
  ]
}